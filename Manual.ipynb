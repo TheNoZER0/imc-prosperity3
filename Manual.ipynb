{
 "cells": [
  {
   "cell_type": "markdown",
   "metadata": {},
   "source": [
    "Round 1"
   ]
  },
  {
   "cell_type": "code",
   "execution_count": 141,
   "metadata": {},
   "outputs": [],
   "source": [
    "import pandas as pd\n",
    "import plotly.graph_objects as go\n",
    "from plotly.subplots import make_subplots\n",
    "import os\n",
    "import math\n",
    "import matplotlib.pyplot as plt\n",
    "from statsmodels.tsa.vector_ar.vecm import coint_johansen\n",
    "import numpy as np\n",
    "from pymle.sim.Simulator1D import Simulator1D\n",
    "from pymle.core.TransitionDensity import ExactDensity, KesslerDensity\n",
    "from pymle.fit.AnalyticalMLE import AnalyticalMLE\n",
    "from pymle.models import GeometricBM, OrnsteinUhlenbeck\n",
    "from sklearn.linear_model import LinearRegression\n",
    "from scipy.optimize import brute\n",
    "from decimal import Decimal, ROUND_HALF_UP\n",
    "from statsmodels.tsa.seasonal import seasonal_decompose\n",
    "import statsmodels.api as sm\n",
    "from statsmodels.tsa.statespace.structural import UnobservedComponents\n",
    "from scipy.interpolate import UnivariateSpline\n",
    "from statsmodels.graphics.tsaplots import plot_acf\n",
    "from scipy.signal import periodogram, find_peaks\n",
    "import itertools\n",
    "from scipy.optimize import minimize, Bounds, LinearConstraint"
   ]
  },
  {
   "cell_type": "code",
   "execution_count": 142,
   "metadata": {},
   "outputs": [
    {
     "name": "stdout",
     "output_type": "stream",
     "text": [
      "Best path: se -> sn -> si -> p -> sn -> se\n",
      "Final amount: 1.08868032\n"
     ]
    }
   ],
   "source": [
    "import itertools\n",
    "\n",
    "# List of instruments (sn, p, si, se)\n",
    "instruments = [\"sn\", \"p\", \"si\", \"se\"]\n",
    "\n",
    "# Trade prices matrix [from][to]\n",
    "prices = {\n",
    "    \"sn\": {\"sn\": 1,   \"p\": 1.45, \"si\": 0.52, \"se\": 0.72},\n",
    "    \"p\":  {\"sn\": 0.7, \"p\": 1,    \"si\": 0.31, \"se\": 0.48},\n",
    "    \"si\": {\"sn\": 1.95, \"p\": 3.1, \"si\": 1,   \"se\": 1.49},\n",
    "    \"se\": {\"sn\": 1.34, \"p\": 1.98, \"si\": 0.64, \"se\": 1},\n",
    "}\n",
    "\n",
    "def simulate_trade(path, start_amount=1):\n",
    "    amount = start_amount\n",
    "    for i in range(len(path) - 1):\n",
    "        frm = path[i]\n",
    "        to = path[i + 1]\n",
    "        amount *= prices[frm][to]\n",
    "    return amount\n",
    "\n",
    "best_path = None\n",
    "best_amount = 0\n",
    "\n",
    "start = \"se\"\n",
    "end = \"se\"\n",
    "middle_steps = 4  # total path length = 6 (start + 4 trades + end)\n",
    "\n",
    "for middle in itertools.product(instruments, repeat=middle_steps):\n",
    "    full_path = [start] + list(middle) + [end]\n",
    "    amount = simulate_trade(full_path)\n",
    "    if amount > best_amount:\n",
    "        best_amount = amount\n",
    "        best_path = full_path\n",
    "\n",
    "print(\"Best path:\", \" -> \".join(best_path))\n",
    "print(\"Final amount:\", best_amount)"
   ]
  },
  {
   "cell_type": "markdown",
   "metadata": {},
   "source": [
    "Round 2"
   ]
  },
  {
   "cell_type": "markdown",
   "metadata": {},
   "source": []
  },
  {
   "cell_type": "code",
   "execution_count": 143,
   "metadata": {},
   "outputs": [
    {
     "name": "stdout",
     "output_type": "stream",
     "text": [
      "[[10  1]\n",
      " [80  6]\n",
      " [37  3]\n",
      " [17  1]\n",
      " [90 10]\n",
      " [31  2]\n",
      " [50  4]\n",
      " [20  2]\n",
      " [73  4]\n",
      " [89  8]]\n"
     ]
    }
   ],
   "source": [
    "containers = [\n",
    "    (10, 1),  # Top-left\n",
    "    (80, 6),  # Top-center-left\n",
    "    (37, 3),  # Top-center-right\n",
    "    (17, 1),  # Top-right\n",
    "    (90, 10), # Mid-left\n",
    "    (31, 2),  # Mid-center\n",
    "    (50, 4),  # Mid-right\n",
    "    (20, 2),  # Bottom-left\n",
    "    (73, 4),  # Bottom-center\n",
    "    (89, 8)   # Bottom-right\n",
    "]\n",
    "\n",
    "arr_containers = np.array(containers)\n",
    "\n",
    "# Print the array\n",
    "print(arr_containers)\n",
    "\n",
    "p_threshold = np.zeros(arr_containers.shape[0])\n",
    "\n",
    "B = 10000 \n",
    "F = 50000\n",
    "N_choices = 2500"
   ]
  },
  {
   "cell_type": "code",
   "execution_count": 144,
   "metadata": {},
   "outputs": [
    {
     "name": "stdout",
     "output_type": "stream",
     "text": [
      "  Container ( 10x,  1 inh): Max share pk = 0.0004 (0.04%)\n",
      "  Container ( 80x,  6 inh): Max share pk = 0.0040 (0.40%)\n",
      "  Container ( 37x,  3 inh): Max share pk = 0.0018 (0.18%)\n",
      "  Container ( 17x,  1 inh): Max share pk = 0.0010 (0.10%)\n",
      "  Container ( 90x, 10 inh): Max share pk = 0.0032 (0.32%)\n",
      "  Container ( 31x,  2 inh): Max share pk = 0.0017 (0.17%)\n",
      "  Container ( 50x,  4 inh): Max share pk = 0.0024 (0.24%)\n",
      "  Container ( 20x,  2 inh): Max share pk = 0.0008 (0.08%)\n",
      "  Container ( 73x,  4 inh): Max share pk = 0.0042 (0.42%)\n",
      "  Container ( 89x,  8 inh): Max share pk = 0.0039 (0.39%)\n"
     ]
    }
   ],
   "source": [
    "for i in range(arr_containers.shape[0]): # Loop through each of the 10 containers\n",
    "    multiplier = arr_containers[i, 0]\n",
    "    inhabitants = arr_containers[i, 1]\n",
    "    \n",
    "    numerator = (multiplier * B) - (F * inhabitants)\n",
    "    denominator = N_choices * F\n",
    "    \n",
    "    max_pk_for_profit = max(0, numerator / denominator) \n",
    "    p_threshold[i] = max_pk_for_profit\n",
    "    \n",
    "    print(f\"  Container ({multiplier:3d}x, {inhabitants:2d} inh): Max share pk = {max_pk_for_profit:.4f} ({max_pk_for_profit*100:.2f}%)\")"
   ]
  },
  {
   "cell_type": "code",
   "execution_count": 145,
   "metadata": {},
   "outputs": [],
   "source": [
    "def maximin_1(container_array, B):\n",
    "    max_metric_val = -float('inf')\n",
    "    argmax = []\n",
    "    for i in range(len(container_array)): \n",
    "        mult, inhab = container_array[i] \n",
    "        metric_val = mult / (inhab + 100) \n",
    "        if math.isclose(metric_val, max_metric_val):\n",
    "            argmax.append((mult, inhab))\n",
    "        elif metric_val > max_metric_val:\n",
    "            argmax = [(mult, inhab)]\n",
    "            max_metric_val = metric_val\n",
    "    max_profit_val = max_metric_val * B\n",
    "    return argmax, max_profit_val"
   ]
  },
  {
   "cell_type": "code",
   "execution_count": null,
   "metadata": {},
   "outputs": [],
   "source": [
    "def _objective_f_2d(p_vec, m1, i1, m2, i2):\n",
    "    p1, p2 = p_vec\n",
    "    # Add epsilon for numerical stability\n",
    "    eps = 1e-9\n",
    "    # Assume i1, i2 are >= 1 based on container data\n",
    "    term1 = m1 / (i1 + 100 * p1 + eps)\n",
    "    term2 = m2 / (i2 + 100 * p2 + eps)\n",
    "    return term1 + term2\n",
    "\n",
    "def maximin_2(container_array, B, F):\n",
    "    max_min_profit = -float('inf') \n",
    "    best_pairs = [] \n",
    "\n",
    "    # Bounds: p1 >= 0, p2 >= 0 (upper bound 1 is implicitly handled by p1+p2<=1)\n",
    "    bounds = Bounds([0.0, 0.0], [1.0, 1.0]) \n",
    "    # Linear Constraint: p1 + p2 <= 1 --> 1*p1 + 1*p2 <= 1\n",
    "    linear_constraint = LinearConstraint([[1, 1]], [-np.inf], [1.0]) \n",
    "\n",
    "    for (m1, i1), (m2, i2) in itertools.combinations(container_array, 2):\n",
    "        # Initial guess for the optimizer (e.g., start near feasible center)\n",
    "        initial_guess = [0.5, 0.5] \n",
    "        # Ensure guess respects sum constraint if starting there is important\n",
    "        if sum(initial_guess) > 1: initial_guess = [0.5/sum(initial_guess), 0.5/sum(initial_guess)]\n",
    "\n",
    "        # Perform 2D constrained minimization\n",
    "        result = minimize(\n",
    "            _objective_f_2d, \n",
    "            initial_guess, \n",
    "            args=(m1, i1, m2, i2), # Pass fixed M, I parameters\n",
    "            method='SLSQP',\n",
    "            bounds=bounds, \n",
    "            constraints=[linear_constraint]\n",
    "        )\n",
    "        \n",
    "        min_summed_ratio = result.fun \n",
    "            \n",
    "        # Calculate the maximin profit for this pair\n",
    "        current_min_profit = (min_summed_ratio * B) - F \n",
    "        \n",
    "        # Update tracker for the overall maximum maximin profit\n",
    "        current_pair_tuple = tuple(sorted([(m1, i1), (m2, i2)]))\n",
    "        if math.isclose(current_min_profit, max_min_profit):\n",
    "             if current_pair_tuple not in {tuple(p) for p in best_pairs}:\n",
    "                 best_pairs.append(list(current_pair_tuple))\n",
    "        elif current_min_profit > max_min_profit:\n",
    "            best_pairs = [list(current_pair_tuple)] \n",
    "            max_min_profit = current_min_profit\n",
    "            \n",
    "    final_best_pairs = [tuple(pair) for pair in best_pairs]\n",
    "    if max_min_profit == -float('inf'): return [], -float('inf') \n",
    "    return final_best_pairs, max_min_profit\n",
    "\n",
    "# def maximin_2(container_array, B, F):\n",
    "#     \"\"\"\n",
    "#     Solves the maximin optimization problem for choosing TWO containers,\n",
    "#     using the SHARE-BASED payoff model V = M*B / (I + 100*p).\n",
    "#     Assumes the worst case is p1=0,p2=1 OR p1=1,p2=0.\n",
    "#     Simplified version without error handling.\n",
    "#     \"\"\"\n",
    "#     max_profit = -float('inf') \n",
    "#     best_pairs = [] \n",
    "    \n",
    "#     # Ensure data is iterable (works for list of tuples or numpy array)\n",
    "#     data_iterable = container_array\n",
    "#     if isinstance(container_array, np.ndarray):\n",
    "#          data_iterable = [tuple(row) for row in container_array]\n",
    "\n",
    "#     # Iterate through all unique pairs of containers\n",
    "#     for (m1, i1), (m2, i2) in itertools.combinations(data_iterable, 2):\n",
    "        \n",
    "#         # Assume inhabitants i1, i2 are >= 1 based on container data\n",
    "        \n",
    "#         # Calculate the summed ratios for the two extreme adversarial allocations\n",
    "#         # Case A: Adversary sets p1=0, p2=1 (maximizes denominator for container 2)\n",
    "#         # Profit ratio component from C1 is M1/I1, from C2 is M2/(I2+100)\n",
    "#         ratio_A = (m1 / i1) + (m2 / (i2 + 100)) \n",
    "        \n",
    "#         # Case B: Adversary sets p1=1, p2=0 (maximizes denominator for container 1)\n",
    "#         # Profit ratio component from C1 is M1/(I1+100), from C2 is M2/I2\n",
    "#         ratio_B = (m1 / (i1 + 100)) + (m2 / i2) \n",
    "        \n",
    "#         # Adversary chooses the case that minimizes the combined payoff ratio\n",
    "#         min_summed_ratio = min(ratio_A, ratio_B)\n",
    "        \n",
    "#         # Calculate the total profit for this pair in the worst case, including fee\n",
    "#         profit = (min_summed_ratio * B) - F \n",
    "        \n",
    "#         # Update max profit and best pair(s)\n",
    "#         # Use tuples for comparison/storage, sort pair for consistency\n",
    "#         current_pair_tuple = tuple(sorted([(m1, i1), (m2, i2)])) \n",
    "#         if math.isclose(profit, max_profit):\n",
    "#              # Simple append, ignore rare duplicate possibility for brevity\n",
    "#              if current_pair_tuple not in {tuple(sorted(p)) for p in best_pairs}:\n",
    "#                  best_pairs.append(list(current_pair_tuple))\n",
    "#         elif profit > max_profit:\n",
    "#             best_pairs = [list(current_pair_tuple)] \n",
    "#             max_profit = profit\n",
    "            \n",
    "#     # Convert inner lists back to tuples for standard output format\n",
    "#     final_best_pairs = [tuple(pair) for pair in best_pairs]\n",
    "    \n",
    "#     return final_best_pairs, max_profit"
   ]
  },
  {
   "cell_type": "code",
   "execution_count": 152,
   "metadata": {},
   "outputs": [
    {
     "name": "stdout",
     "output_type": "stream",
     "text": [
      "Maximin choice (1 container): [(89, 8)]\n",
      "Maximin profit (worst-case, 1 container): 8240.74\n",
      "------------------------------\n",
      "Maximin choice(s) (2 containers): [((89, 8), (90, 10))]\n",
      "Maximin profit (worst-case, 2 containers): -19661.25\n",
      "------------------------------\n"
     ]
    }
   ],
   "source": [
    "maximin1_choice, maximin1_profit = maximin_1(arr_containers, B)\n",
    "maximin2_choice, maximin2_profit = maximin_2(arr_containers, B, F)\n",
    "\n",
    "print(f\"Maximin choice (1 container): {maximin1_choice}\")\n",
    "print(f\"Maximin profit (worst-case, 1 container): {maximin1_profit:.2f}\")\n",
    "print(\"-\" * 30)\n",
    "print(f\"Maximin choice(s) (2 containers): {maximin2_choice}\")\n",
    "print(f\"Maximin profit (worst-case, 2 containers): {maximin2_profit:.2f}\")\n",
    "print(\"-\" * 30)"
   ]
  }
 ],
 "metadata": {
  "kernelspec": {
   "display_name": "MainEnvironment",
   "language": "python",
   "name": "python3"
  },
  "language_info": {
   "codemirror_mode": {
    "name": "ipython",
    "version": 3
   },
   "file_extension": ".py",
   "mimetype": "text/x-python",
   "name": "python",
   "nbconvert_exporter": "python",
   "pygments_lexer": "ipython3",
   "version": "3.12.9"
  }
 },
 "nbformat": 4,
 "nbformat_minor": 2
}
